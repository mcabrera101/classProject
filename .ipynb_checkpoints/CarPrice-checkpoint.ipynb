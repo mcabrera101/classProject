{
 "cells": [
  {
   "cell_type": "markdown",
   "id": "c5cb30da",
   "metadata": {},
   "source": [
    "# Functions"
   ]
  },
  {
   "cell_type": "code",
   "execution_count": 1,
   "id": "9e478877",
   "metadata": {},
   "outputs": [],
   "source": [
    "def valueFilter(dataFrame,columnName,values):\n",
    "    return dataFrame[~dataFrame[columnName].isin(values)]"
   ]
  },
  {
   "cell_type": "markdown",
   "id": "1a047d94",
   "metadata": {},
   "source": [
    "# Formating Data"
   ]
  },
  {
   "cell_type": "code",
   "execution_count": 2,
   "id": "8692ebf6",
   "metadata": {},
   "outputs": [],
   "source": [
    "import pandas as pd\n",
    "from scipy.stats import pearsonr\n",
    "import numpy as np\n",
    "from sklearn.model_selection import train_test_split\n",
    "from sklearn.preprocessing import StandardScaler\n",
    "import matplotlib.pyplot as plt\n",
    "import statistics\n",
    "from sklearn import linear_model, tree\n",
    "import matplotlib.pyplot as plt\n",
    "from sklearn.metrics import mean_squared_error, r2_score, confusion_matrix\n",
    "from sklearn.neighbors import KNeighborsClassifier"
   ]
  },
  {
   "cell_type": "markdown",
   "id": "b5cc7094",
   "metadata": {},
   "source": [
    "# Import raw datasets"
   ]
  },
  {
   "cell_type": "code",
   "execution_count": 3,
   "id": "476e0248",
   "metadata": {},
   "outputs": [],
   "source": [
    "audi_raw = pd.read_csv('data/audi.csv')"
   ]
  },
  {
   "cell_type": "code",
   "execution_count": 4,
   "id": "f9b0b38e",
   "metadata": {},
   "outputs": [],
   "source": [
    "bmw_raw = pd.read_csv('data/bmw.csv')"
   ]
  },
  {
   "cell_type": "code",
   "execution_count": 5,
   "id": "116479f4",
   "metadata": {},
   "outputs": [],
   "source": [
    "ford_raw = pd.read_csv('data/ford.csv')"
   ]
  },
  {
   "cell_type": "code",
   "execution_count": 6,
   "id": "fe10564f",
   "metadata": {},
   "outputs": [],
   "source": [
    "hyundi_raw = pd.read_csv('data/hyundi.csv')"
   ]
  },
  {
   "cell_type": "code",
   "execution_count": 7,
   "id": "fbfa2fbc",
   "metadata": {},
   "outputs": [],
   "source": [
    "merc_raw = pd.read_csv('data/merc.csv')"
   ]
  },
  {
   "cell_type": "code",
   "execution_count": 8,
   "id": "5e74e8a9",
   "metadata": {},
   "outputs": [],
   "source": [
    "skoda_raw = pd.read_csv('data/skoda.csv')"
   ]
  },
  {
   "cell_type": "code",
   "execution_count": 9,
   "id": "48e85f08",
   "metadata": {},
   "outputs": [],
   "source": [
    "toyota_raw = pd.read_csv('data/toyota.csv')"
   ]
  },
  {
   "cell_type": "code",
   "execution_count": 10,
   "id": "95b155c1",
   "metadata": {},
   "outputs": [],
   "source": [
    "vauxhall_raw = pd.read_csv('data/vauxhall.csv')"
   ]
  },
  {
   "cell_type": "code",
   "execution_count": 11,
   "id": "71b7ed8f",
   "metadata": {},
   "outputs": [],
   "source": [
    "vw_raw = pd.read_csv('data/vw.csv')"
   ]
  },
  {
   "cell_type": "markdown",
   "id": "e8b5cea6",
   "metadata": {},
   "source": [
    "# Merge into one dataframe"
   ]
  },
  {
   "cell_type": "code",
   "execution_count": 12,
   "id": "279b7c6a",
   "metadata": {},
   "outputs": [],
   "source": [
    "hyundi_raw = hyundi_raw.rename(columns={'tax(£)':'tax'})"
   ]
  },
  {
   "cell_type": "code",
   "execution_count": 13,
   "id": "391cad06",
   "metadata": {},
   "outputs": [],
   "source": [
    "df = [audi_raw, bmw_raw, ford_raw, hyundi_raw, merc_raw, skoda_raw, toyota_raw, vauxhall_raw, vw_raw]"
   ]
  },
  {
   "cell_type": "code",
   "execution_count": 14,
   "id": "83ef109a",
   "metadata": {},
   "outputs": [],
   "source": [
    "cars = pd.concat(df)\n",
    "cars['model'] = cars['model'].astype('category')\n",
    "cars['transmission'] = cars['transmission'].astype('category')\n",
    "cars['fuelType'] = cars['fuelType'].astype('category')\n",
    "cars['year'] = cars['year'].astype('category')\n"
   ]
  },
  {
   "cell_type": "code",
   "execution_count": 15,
   "id": "3b23829f",
   "metadata": {},
   "outputs": [
    {
     "data": {
      "text/html": [
       "<div>\n",
       "<style scoped>\n",
       "    .dataframe tbody tr th:only-of-type {\n",
       "        vertical-align: middle;\n",
       "    }\n",
       "\n",
       "    .dataframe tbody tr th {\n",
       "        vertical-align: top;\n",
       "    }\n",
       "\n",
       "    .dataframe thead th {\n",
       "        text-align: right;\n",
       "    }\n",
       "</style>\n",
       "<table border=\"1\" class=\"dataframe\">\n",
       "  <thead>\n",
       "    <tr style=\"text-align: right;\">\n",
       "      <th></th>\n",
       "      <th>mileage</th>\n",
       "      <th>mpg</th>\n",
       "      <th>engineSize</th>\n",
       "      <th>model_ 1 Series</th>\n",
       "      <th>model_ 2 Series</th>\n",
       "      <th>model_ 3 Series</th>\n",
       "      <th>model_ 4 Series</th>\n",
       "      <th>model_ 5 Series</th>\n",
       "      <th>model_ 6 Series</th>\n",
       "      <th>model_ 7 Series</th>\n",
       "      <th>...</th>\n",
       "      <th>year_2060</th>\n",
       "      <th>transmission_Automatic</th>\n",
       "      <th>transmission_Manual</th>\n",
       "      <th>transmission_Other</th>\n",
       "      <th>transmission_Semi-Auto</th>\n",
       "      <th>fuelType_Diesel</th>\n",
       "      <th>fuelType_Electric</th>\n",
       "      <th>fuelType_Hybrid</th>\n",
       "      <th>fuelType_Other</th>\n",
       "      <th>fuelType_Petrol</th>\n",
       "    </tr>\n",
       "  </thead>\n",
       "  <tbody>\n",
       "    <tr>\n",
       "      <th>0</th>\n",
       "      <td>15735</td>\n",
       "      <td>55.4</td>\n",
       "      <td>1.4</td>\n",
       "      <td>0</td>\n",
       "      <td>0</td>\n",
       "      <td>0</td>\n",
       "      <td>0</td>\n",
       "      <td>0</td>\n",
       "      <td>0</td>\n",
       "      <td>0</td>\n",
       "      <td>...</td>\n",
       "      <td>0</td>\n",
       "      <td>0</td>\n",
       "      <td>1</td>\n",
       "      <td>0</td>\n",
       "      <td>0</td>\n",
       "      <td>0</td>\n",
       "      <td>0</td>\n",
       "      <td>0</td>\n",
       "      <td>0</td>\n",
       "      <td>1</td>\n",
       "    </tr>\n",
       "    <tr>\n",
       "      <th>1</th>\n",
       "      <td>36203</td>\n",
       "      <td>64.2</td>\n",
       "      <td>2.0</td>\n",
       "      <td>0</td>\n",
       "      <td>0</td>\n",
       "      <td>0</td>\n",
       "      <td>0</td>\n",
       "      <td>0</td>\n",
       "      <td>0</td>\n",
       "      <td>0</td>\n",
       "      <td>...</td>\n",
       "      <td>0</td>\n",
       "      <td>1</td>\n",
       "      <td>0</td>\n",
       "      <td>0</td>\n",
       "      <td>0</td>\n",
       "      <td>1</td>\n",
       "      <td>0</td>\n",
       "      <td>0</td>\n",
       "      <td>0</td>\n",
       "      <td>0</td>\n",
       "    </tr>\n",
       "    <tr>\n",
       "      <th>2</th>\n",
       "      <td>29946</td>\n",
       "      <td>55.4</td>\n",
       "      <td>1.4</td>\n",
       "      <td>0</td>\n",
       "      <td>0</td>\n",
       "      <td>0</td>\n",
       "      <td>0</td>\n",
       "      <td>0</td>\n",
       "      <td>0</td>\n",
       "      <td>0</td>\n",
       "      <td>...</td>\n",
       "      <td>0</td>\n",
       "      <td>0</td>\n",
       "      <td>1</td>\n",
       "      <td>0</td>\n",
       "      <td>0</td>\n",
       "      <td>0</td>\n",
       "      <td>0</td>\n",
       "      <td>0</td>\n",
       "      <td>0</td>\n",
       "      <td>1</td>\n",
       "    </tr>\n",
       "    <tr>\n",
       "      <th>3</th>\n",
       "      <td>25952</td>\n",
       "      <td>67.3</td>\n",
       "      <td>2.0</td>\n",
       "      <td>0</td>\n",
       "      <td>0</td>\n",
       "      <td>0</td>\n",
       "      <td>0</td>\n",
       "      <td>0</td>\n",
       "      <td>0</td>\n",
       "      <td>0</td>\n",
       "      <td>...</td>\n",
       "      <td>0</td>\n",
       "      <td>1</td>\n",
       "      <td>0</td>\n",
       "      <td>0</td>\n",
       "      <td>0</td>\n",
       "      <td>1</td>\n",
       "      <td>0</td>\n",
       "      <td>0</td>\n",
       "      <td>0</td>\n",
       "      <td>0</td>\n",
       "    </tr>\n",
       "    <tr>\n",
       "      <th>4</th>\n",
       "      <td>1998</td>\n",
       "      <td>49.6</td>\n",
       "      <td>1.0</td>\n",
       "      <td>0</td>\n",
       "      <td>0</td>\n",
       "      <td>0</td>\n",
       "      <td>0</td>\n",
       "      <td>0</td>\n",
       "      <td>0</td>\n",
       "      <td>0</td>\n",
       "      <td>...</td>\n",
       "      <td>0</td>\n",
       "      <td>0</td>\n",
       "      <td>1</td>\n",
       "      <td>0</td>\n",
       "      <td>0</td>\n",
       "      <td>0</td>\n",
       "      <td>0</td>\n",
       "      <td>0</td>\n",
       "      <td>0</td>\n",
       "      <td>1</td>\n",
       "    </tr>\n",
       "    <tr>\n",
       "      <th>...</th>\n",
       "      <td>...</td>\n",
       "      <td>...</td>\n",
       "      <td>...</td>\n",
       "      <td>...</td>\n",
       "      <td>...</td>\n",
       "      <td>...</td>\n",
       "      <td>...</td>\n",
       "      <td>...</td>\n",
       "      <td>...</td>\n",
       "      <td>...</td>\n",
       "      <td>...</td>\n",
       "      <td>...</td>\n",
       "      <td>...</td>\n",
       "      <td>...</td>\n",
       "      <td>...</td>\n",
       "      <td>...</td>\n",
       "      <td>...</td>\n",
       "      <td>...</td>\n",
       "      <td>...</td>\n",
       "      <td>...</td>\n",
       "      <td>...</td>\n",
       "    </tr>\n",
       "    <tr>\n",
       "      <th>15152</th>\n",
       "      <td>74000</td>\n",
       "      <td>58.9</td>\n",
       "      <td>2.0</td>\n",
       "      <td>0</td>\n",
       "      <td>0</td>\n",
       "      <td>0</td>\n",
       "      <td>0</td>\n",
       "      <td>0</td>\n",
       "      <td>0</td>\n",
       "      <td>0</td>\n",
       "      <td>...</td>\n",
       "      <td>0</td>\n",
       "      <td>0</td>\n",
       "      <td>1</td>\n",
       "      <td>0</td>\n",
       "      <td>0</td>\n",
       "      <td>1</td>\n",
       "      <td>0</td>\n",
       "      <td>0</td>\n",
       "      <td>0</td>\n",
       "      <td>0</td>\n",
       "    </tr>\n",
       "    <tr>\n",
       "      <th>15153</th>\n",
       "      <td>88102</td>\n",
       "      <td>46.3</td>\n",
       "      <td>1.2</td>\n",
       "      <td>0</td>\n",
       "      <td>0</td>\n",
       "      <td>0</td>\n",
       "      <td>0</td>\n",
       "      <td>0</td>\n",
       "      <td>0</td>\n",
       "      <td>0</td>\n",
       "      <td>...</td>\n",
       "      <td>0</td>\n",
       "      <td>0</td>\n",
       "      <td>1</td>\n",
       "      <td>0</td>\n",
       "      <td>0</td>\n",
       "      <td>0</td>\n",
       "      <td>0</td>\n",
       "      <td>0</td>\n",
       "      <td>0</td>\n",
       "      <td>1</td>\n",
       "    </tr>\n",
       "    <tr>\n",
       "      <th>15154</th>\n",
       "      <td>70000</td>\n",
       "      <td>42.0</td>\n",
       "      <td>1.4</td>\n",
       "      <td>0</td>\n",
       "      <td>0</td>\n",
       "      <td>0</td>\n",
       "      <td>0</td>\n",
       "      <td>0</td>\n",
       "      <td>0</td>\n",
       "      <td>0</td>\n",
       "      <td>...</td>\n",
       "      <td>0</td>\n",
       "      <td>0</td>\n",
       "      <td>1</td>\n",
       "      <td>0</td>\n",
       "      <td>0</td>\n",
       "      <td>0</td>\n",
       "      <td>0</td>\n",
       "      <td>0</td>\n",
       "      <td>0</td>\n",
       "      <td>1</td>\n",
       "    </tr>\n",
       "    <tr>\n",
       "      <th>15155</th>\n",
       "      <td>82704</td>\n",
       "      <td>46.3</td>\n",
       "      <td>1.2</td>\n",
       "      <td>0</td>\n",
       "      <td>0</td>\n",
       "      <td>0</td>\n",
       "      <td>0</td>\n",
       "      <td>0</td>\n",
       "      <td>0</td>\n",
       "      <td>0</td>\n",
       "      <td>...</td>\n",
       "      <td>0</td>\n",
       "      <td>0</td>\n",
       "      <td>1</td>\n",
       "      <td>0</td>\n",
       "      <td>0</td>\n",
       "      <td>0</td>\n",
       "      <td>0</td>\n",
       "      <td>0</td>\n",
       "      <td>0</td>\n",
       "      <td>1</td>\n",
       "    </tr>\n",
       "    <tr>\n",
       "      <th>15156</th>\n",
       "      <td>74000</td>\n",
       "      <td>46.3</td>\n",
       "      <td>1.2</td>\n",
       "      <td>0</td>\n",
       "      <td>0</td>\n",
       "      <td>0</td>\n",
       "      <td>0</td>\n",
       "      <td>0</td>\n",
       "      <td>0</td>\n",
       "      <td>0</td>\n",
       "      <td>...</td>\n",
       "      <td>0</td>\n",
       "      <td>0</td>\n",
       "      <td>1</td>\n",
       "      <td>0</td>\n",
       "      <td>0</td>\n",
       "      <td>0</td>\n",
       "      <td>0</td>\n",
       "      <td>0</td>\n",
       "      <td>0</td>\n",
       "      <td>1</td>\n",
       "    </tr>\n",
       "  </tbody>\n",
       "</table>\n",
       "<p>99187 rows × 234 columns</p>\n",
       "</div>"
      ],
      "text/plain": [
       "       mileage   mpg  engineSize  model_ 1 Series  model_ 2 Series  \\\n",
       "0        15735  55.4         1.4                0                0   \n",
       "1        36203  64.2         2.0                0                0   \n",
       "2        29946  55.4         1.4                0                0   \n",
       "3        25952  67.3         2.0                0                0   \n",
       "4         1998  49.6         1.0                0                0   \n",
       "...        ...   ...         ...              ...              ...   \n",
       "15152    74000  58.9         2.0                0                0   \n",
       "15153    88102  46.3         1.2                0                0   \n",
       "15154    70000  42.0         1.4                0                0   \n",
       "15155    82704  46.3         1.2                0                0   \n",
       "15156    74000  46.3         1.2                0                0   \n",
       "\n",
       "       model_ 3 Series  model_ 4 Series  model_ 5 Series  model_ 6 Series  \\\n",
       "0                    0                0                0                0   \n",
       "1                    0                0                0                0   \n",
       "2                    0                0                0                0   \n",
       "3                    0                0                0                0   \n",
       "4                    0                0                0                0   \n",
       "...                ...              ...              ...              ...   \n",
       "15152                0                0                0                0   \n",
       "15153                0                0                0                0   \n",
       "15154                0                0                0                0   \n",
       "15155                0                0                0                0   \n",
       "15156                0                0                0                0   \n",
       "\n",
       "       model_ 7 Series  ...  year_2060  transmission_Automatic  \\\n",
       "0                    0  ...          0                       0   \n",
       "1                    0  ...          0                       1   \n",
       "2                    0  ...          0                       0   \n",
       "3                    0  ...          0                       1   \n",
       "4                    0  ...          0                       0   \n",
       "...                ...  ...        ...                     ...   \n",
       "15152                0  ...          0                       0   \n",
       "15153                0  ...          0                       0   \n",
       "15154                0  ...          0                       0   \n",
       "15155                0  ...          0                       0   \n",
       "15156                0  ...          0                       0   \n",
       "\n",
       "       transmission_Manual  transmission_Other  transmission_Semi-Auto  \\\n",
       "0                        1                   0                       0   \n",
       "1                        0                   0                       0   \n",
       "2                        1                   0                       0   \n",
       "3                        0                   0                       0   \n",
       "4                        1                   0                       0   \n",
       "...                    ...                 ...                     ...   \n",
       "15152                    1                   0                       0   \n",
       "15153                    1                   0                       0   \n",
       "15154                    1                   0                       0   \n",
       "15155                    1                   0                       0   \n",
       "15156                    1                   0                       0   \n",
       "\n",
       "       fuelType_Diesel  fuelType_Electric  fuelType_Hybrid  fuelType_Other  \\\n",
       "0                    0                  0                0               0   \n",
       "1                    1                  0                0               0   \n",
       "2                    0                  0                0               0   \n",
       "3                    1                  0                0               0   \n",
       "4                    0                  0                0               0   \n",
       "...                ...                ...              ...             ...   \n",
       "15152                1                  0                0               0   \n",
       "15153                0                  0                0               0   \n",
       "15154                0                  0                0               0   \n",
       "15155                0                  0                0               0   \n",
       "15156                0                  0                0               0   \n",
       "\n",
       "       fuelType_Petrol  \n",
       "0                    1  \n",
       "1                    0  \n",
       "2                    1  \n",
       "3                    0  \n",
       "4                    1  \n",
       "...                ...  \n",
       "15152                0  \n",
       "15153                1  \n",
       "15154                1  \n",
       "15155                1  \n",
       "15156                1  \n",
       "\n",
       "[99187 rows x 234 columns]"
      ]
     },
     "execution_count": 15,
     "metadata": {},
     "output_type": "execute_result"
    }
   ],
   "source": [
    "cars['category'] = ' '\n",
    "for i in range(0,len(cars)):\n",
    "    if cars['price'].values[i] < 10000:\n",
    "        cars['category'].values[i] = 'low-end'\n",
    "    elif cars['price'].values[i] > 10000 & cars['price'].values[i] < 25000:\n",
    "        cars['category'].values[i] = 'mid-end'\n",
    "    else:\n",
    "        cars['category'].values[i] = 'low-end'\n",
    "\n",
    "cars['category'].astype('category')\n",
    "cars_x = cars.drop('price', inplace = False, axis=1)\n",
    "cars_x = cars_x.drop(['tax','category'], inplace = False, axis=1)\n",
    "\n",
    "cars_y = cars['price']\n",
    "cars_y2 = cars['category']\n",
    "cars_x = pd.get_dummies(cars_x)\n",
    "cars_x"
   ]
  },
  {
   "cell_type": "code",
   "execution_count": 16,
   "id": "5ea5d234",
   "metadata": {},
   "outputs": [
    {
     "data": {
      "text/plain": [
       "(99187, 234)"
      ]
     },
     "execution_count": 16,
     "metadata": {},
     "output_type": "execute_result"
    }
   ],
   "source": [
    "cars_x.shape"
   ]
  },
  {
   "cell_type": "code",
   "execution_count": 17,
   "id": "80df93de",
   "metadata": {},
   "outputs": [
    {
     "data": {
      "text/plain": [
       "(99187,)"
      ]
     },
     "execution_count": 17,
     "metadata": {},
     "output_type": "execute_result"
    }
   ],
   "source": [
    "cars_y.shape"
   ]
  },
  {
   "cell_type": "markdown",
   "id": "6b4c03ae",
   "metadata": {},
   "source": [
    "# Regression Model"
   ]
  },
  {
   "cell_type": "markdown",
   "id": "266a94bd",
   "metadata": {},
   "source": [
    "### Linear Regression"
   ]
  },
  {
   "cell_type": "code",
   "execution_count": 18,
   "id": "714efd20",
   "metadata": {},
   "outputs": [],
   "source": [
    "cars_train, cars_test, price_train, price_test = train_test_split(cars_x, cars_y, test_size = 0.3, random_state=101)\n",
    "cars_train, cars_test, cat_train, cat_test = train_test_split(cars_x, cars_y2, test_size = 0.3, random_state=101)\n"
   ]
  },
  {
   "cell_type": "code",
   "execution_count": 19,
   "id": "8ab2deb4",
   "metadata": {},
   "outputs": [
    {
     "data": {
      "text/plain": [
       "[<matplotlib.lines.Line2D at 0x11e05ef70>]"
      ]
     },
     "execution_count": 19,
     "metadata": {},
     "output_type": "execute_result"
    },
    {
     "data": {
      "image/png": "[encoded data removed]",
      "text/plain": [
       "<Figure size 432x288 with 1 Axes>"
      ]
     },
     "metadata": {
      "needs_background": "light"
     },
     "output_type": "display_data"
    }
   ],
   "source": [
    "plt.plot(cars.mileage, cars.price, 'ro')"
   ]
  },
  {
   "cell_type": "code",
   "execution_count": 20,
   "id": "d6976b79",
   "metadata": {},
   "outputs": [
    {
     "data": {
      "text/plain": [
       "LinearRegression()"
      ]
     },
     "execution_count": 20,
     "metadata": {},
     "output_type": "execute_result"
    }
   ],
   "source": [
    "mod = linear_model.LinearRegression()\n",
    "mod.fit(cars_train, price_train)"
   ]
  },
  {
   "cell_type": "code",
   "execution_count": 21,
   "id": "992294a6",
   "metadata": {},
   "outputs": [],
   "source": [
    "cars_pred = mod.predict(cars_test)"
   ]
  },
  {
   "cell_type": "code",
   "execution_count": 22,
   "id": "b5d8e1fc",
   "metadata": {},
   "outputs": [
    {
     "data": {
      "text/plain": [
       "0.8677951813390343"
      ]
     },
     "execution_count": 22,
     "metadata": {},
     "output_type": "execute_result"
    }
   ],
   "source": [
    "r2_score(price_test, cars_pred)"
   ]
  },
  {
   "cell_type": "code",
   "execution_count": 23,
   "id": "56ca9103",
   "metadata": {},
   "outputs": [
    {
     "data": {
      "text/plain": [
       "<matplotlib.collections.PathCollection at 0x11e453910>"
      ]
     },
     "execution_count": 23,
     "metadata": {},
     "output_type": "execute_result"
    },
    {
     "data": {
      "image/png": "[encoded data removed]",
      "text/plain": [
       "<Figure size 432x288 with 1 Axes>"
      ]
     },
     "metadata": {
      "needs_background": "light"
     },
     "output_type": "display_data"
    }
   ],
   "source": [
    "plt.scatter(price_test, cars_pred, marker='+')"
   ]
  },
  {
   "cell_type": "markdown",
   "id": "1a0ac077",
   "metadata": {},
   "source": [
    "### Ridge "
   ]
  },
  {
   "cell_type": "code",
   "execution_count": 24,
   "id": "7f6d7c97",
   "metadata": {},
   "outputs": [
    {
     "data": {
      "text/plain": [
       "Ridge()"
      ]
     },
     "execution_count": 24,
     "metadata": {},
     "output_type": "execute_result"
    }
   ],
   "source": [
    "ridge = linear_model.Ridge(alpha = 1.0)\n",
    "ridge.fit(cars_train, price_train)"
   ]
  },
  {
   "cell_type": "code",
   "execution_count": 25,
   "id": "d2990733",
   "metadata": {},
   "outputs": [],
   "source": [
    "cars_pred = ridge.predict(cars_test)"
   ]
  },
  {
   "cell_type": "code",
   "execution_count": 26,
   "id": "1c1910df",
   "metadata": {},
   "outputs": [
    {
     "data": {
      "text/plain": [
       "0.8662462739439201"
      ]
     },
     "execution_count": 26,
     "metadata": {},
     "output_type": "execute_result"
    }
   ],
   "source": [
    "r2_score(price_test, cars_pred)"
   ]
  },
  {
   "cell_type": "code",
   "execution_count": 27,
   "id": "932ec927",
   "metadata": {},
   "outputs": [
    {
     "data": {
      "text/plain": [
       "<matplotlib.collections.PathCollection at 0x11e453d60>"
      ]
     },
     "execution_count": 27,
     "metadata": {},
     "output_type": "execute_result"
    },
    {
     "data": {
      "image/png": "[encoded data removed]",
      "text/plain": [
       "<Figure size 432x288 with 1 Axes>"
      ]
     },
     "metadata": {
      "needs_background": "light"
     },
     "output_type": "display_data"
    }
   ],
   "source": [
    "plt.scatter(price_test, cars_pred, marker = '+')"
   ]
  },
  {
   "cell_type": "markdown",
   "id": "f622d040",
   "metadata": {},
   "source": [
    "### Polynomial Regression"
   ]
  },
  {
   "cell_type": "code",
   "execution_count": 28,
   "id": "c583acc0",
   "metadata": {},
   "outputs": [
    {
     "data": {
      "text/plain": [
       "'poly = PolynomialFeatures(degree=3, include_bias=False)\\npoly_features_train = poly.fit_transform(cars_test)\\npolyLine = linear_model.LinearRegression()\\npolyLine.fit(poly_features_train, price_train)'"
      ]
     },
     "execution_count": 28,
     "metadata": {},
     "output_type": "execute_result"
    }
   ],
   "source": [
    "'''poly = PolynomialFeatures(degree=3, include_bias=False)\n",
    "poly_features_train = poly.fit_transform(cars_test)\n",
    "polyLine = linear_model.LinearRegression()\n",
    "polyLine.fit(poly_features_train, price_train)'''\n",
    "\n"
   ]
  },
  {
   "cell_type": "code",
   "execution_count": 29,
   "id": "fd504ee8",
   "metadata": {},
   "outputs": [
    {
     "data": {
      "text/plain": [
       "'poly_features_test = poly.fit_transform(cars_test)\\ncars_pred = polyLine.predict(poly_features_test)\\ncars_pred.shape'"
      ]
     },
     "execution_count": 29,
     "metadata": {},
     "output_type": "execute_result"
    }
   ],
   "source": [
    "'''poly_features_test = poly.fit_transform(cars_test)\n",
    "cars_pred = polyLine.predict(poly_features_test)\n",
    "cars_pred.shape'''\n"
   ]
  },
  {
   "cell_type": "code",
   "execution_count": 30,
   "id": "d5f44961",
   "metadata": {},
   "outputs": [
    {
     "data": {
      "text/plain": [
       "0.8662462739439201"
      ]
     },
     "execution_count": 30,
     "metadata": {},
     "output_type": "execute_result"
    }
   ],
   "source": [
    "r2_score(price_test, cars_pred)"
   ]
  },
  {
   "cell_type": "code",
   "execution_count": 31,
   "id": "99f3d58b",
   "metadata": {},
   "outputs": [
    {
     "data": {
      "text/plain": [
       "<matplotlib.collections.PathCollection at 0x120598280>"
      ]
     },
     "execution_count": 31,
     "metadata": {},
     "output_type": "execute_result"
    },
    {
     "data": {
      "image/png": "[encoded data removed]",
      "text/plain": [
       "<Figure size 432x288 with 1 Axes>"
      ]
     },
     "metadata": {
      "needs_background": "light"
     },
     "output_type": "display_data"
    }
   ],
   "source": [
    "plt.scatter(price_test, cars_pred, marker = '+')"
   ]
  },
  {
   "cell_type": "markdown",
   "id": "0976c8ff",
   "metadata": {},
   "source": [
    "# Classification Model"
   ]
  },
  {
   "cell_type": "markdown",
   "id": "8d757e8a",
   "metadata": {},
   "source": [
    "### K-NN "
   ]
  },
  {
   "cell_type": "code",
   "execution_count": 32,
   "id": "d1c82e98",
   "metadata": {},
   "outputs": [
    {
     "data": {
      "text/plain": [
       "KNeighborsClassifier(n_neighbors=30)"
      ]
     },
     "execution_count": 32,
     "metadata": {},
     "output_type": "execute_result"
    }
   ],
   "source": [
    "knn = KNeighborsClassifier(n_neighbors=30)\n",
    "knn.fit(cars_train, cat_train)"
   ]
  },
  {
   "cell_type": "code",
   "execution_count": 33,
   "id": "4f778133",
   "metadata": {},
   "outputs": [],
   "source": [
    "cat_pred = knn.predict(cars_test)"
   ]
  },
  {
   "cell_type": "code",
   "execution_count": 34,
   "id": "47f66044",
   "metadata": {},
   "outputs": [
    {
     "data": {
      "text/plain": [
       "array([[ 1811,  5771],\n",
       "       [ 1533, 20642]])"
      ]
     },
     "execution_count": 34,
     "metadata": {},
     "output_type": "execute_result"
    }
   ],
   "source": [
    "cat = confusion_matrix(cat_test, cat_pred)\n",
    "cat"
   ]
  },
  {
   "cell_type": "code",
   "execution_count": 35,
   "id": "5f059acd",
   "metadata": {},
   "outputs": [],
   "source": [
    "TP = cat[1][1]\n",
    "TN = cat[0][0]\n",
    "FP = cat[0][1]\n",
    "FN = cat[1][0]\n",
    "accuracy = (TP + TN)/(TP+TN+FP+FN)"
   ]
  },
  {
   "cell_type": "code",
   "execution_count": 36,
   "id": "c3cf46d8",
   "metadata": {},
   "outputs": [
    {
     "data": {
      "text/plain": [
       "0.7545451490405619"
      ]
     },
     "execution_count": 36,
     "metadata": {},
     "output_type": "execute_result"
    }
   ],
   "source": [
    "accuracy"
   ]
  },
  {
   "cell_type": "markdown",
   "id": "221aca6d",
   "metadata": {},
   "source": [
    "### Decision Tree"
   ]
  },
  {
   "cell_type": "code",
   "execution_count": 37,
   "id": "fd2bd5f2",
   "metadata": {},
   "outputs": [],
   "source": [
    "dtree = tree.DecisionTreeClassifier()\n",
    "dtree = dtree.fit(cars_train, cat_train)"
   ]
  },
  {
   "cell_type": "code",
   "execution_count": 38,
   "id": "20b25d54",
   "metadata": {},
   "outputs": [],
   "source": [
    "y_pred = dtree.predict(cars_test)"
   ]
  },
  {
   "cell_type": "code",
   "execution_count": 39,
   "id": "afc6da15",
   "metadata": {},
   "outputs": [
    {
     "data": {
      "text/plain": [
       "array([[ 6646,   936],\n",
       "       [  897, 21278]])"
      ]
     },
     "execution_count": 39,
     "metadata": {},
     "output_type": "execute_result"
    }
   ],
   "source": [
    "cat = confusion_matrix(cat_test, y_pred)\n",
    "cat"
   ]
  },
  {
   "cell_type": "code",
   "execution_count": 40,
   "id": "e121b0c0",
   "metadata": {},
   "outputs": [],
   "source": [
    "TP = cat[1][1]\n",
    "TN = cat[0][0]\n",
    "FP = cat[0][1]\n",
    "FN = cat[1][0]\n",
    "accuracy = (TP + TN)/(TP+TN+FP+FN)"
   ]
  },
  {
   "cell_type": "code",
   "execution_count": 41,
   "id": "f15e93cc",
   "metadata": {},
   "outputs": [
    {
     "data": {
      "text/plain": [
       "0.9384010484927916"
      ]
     },
     "execution_count": 41,
     "metadata": {},
     "output_type": "execute_result"
    }
   ],
   "source": [
    "accuracy"
   ]
  }
 ],
 "metadata": {
  "kernelspec": {
   "display_name": "Python 3 (ipykernel)",
   "language": "python",
   "name": "python3"
  },
  "language_info": {
   "codemirror_mode": {
    "name": "ipython",
    "version": 3
   },
   "file_extension": ".py",
   "mimetype": "text/x-python",
   "name": "python",
   "nbconvert_exporter": "python",
   "pygments_lexer": "ipython3",
   "version": "3.9.10"
  }
 },
 "nbformat": 4,
 "nbformat_minor": 5
}
