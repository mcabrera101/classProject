{
 "cells": [
  {
   "cell_type": "markdown",
   "id": "bc2cf5b1",
   "metadata": {},
   "source": [
    "# Functions"
   ]
  },
  {
   "cell_type": "code",
   "execution_count": 2,
   "id": "5d356a6e",
   "metadata": {},
   "outputs": [],
   "source": [
    "def valueFilter(dataFrame,columnName,values):\n",
    "    return dataFrame[~dataFrame[columnName].isin(values)]"
   ]
  },
  {
   "cell_type": "markdown",
   "id": "e611c46e",
   "metadata": {},
   "source": [
    "# Formating Data"
   ]
  },
  {
   "cell_type": "code",
   "execution_count": 2,
   "id": "df9db3f2",
   "metadata": {},
   "outputs": [],
   "source": [
    "import pandas as pd\n",
    "from scipy.stats import pearsonr\n",
    "import numpy as np\n",
    "from sklearn.model_selection import train_test_split"
   ]
  },
  {
   "cell_type": "code",
   "execution_count": 3,
   "id": "a737b3b3",
   "metadata": {},
   "outputs": [],
   "source": [
    "audi_raw = pd.read_csv('data/audi.csv')"
   ]
  },
  {
   "cell_type": "markdown",
   "id": "de61abb3",
   "metadata": {},
   "source": [
    "# Import raw datasets"
   ]
  },
  {
   "cell_type": "code",
   "execution_count": 4,
   "id": "03cae226",
   "metadata": {},
   "outputs": [],
   "source": [
    "audi_raw = pd.read_csv('data/audi.csv')"
   ]
  },
  {
   "cell_type": "code",
   "execution_count": 5,
   "id": "15619ace",
   "metadata": {},
   "outputs": [],
   "source": [
    "bmw_raw = pd.read_csv('data/bmw.csv')"
   ]
  },
  {
   "cell_type": "code",
   "execution_count": 6,
   "id": "e1e4b43e",
   "metadata": {},
   "outputs": [],
   "source": [
    "ford_raw = pd.read_csv('data/ford.csv')"
   ]
  },
  {
   "cell_type": "code",
   "execution_count": 7,
   "id": "35b0beba",
   "metadata": {},
   "outputs": [],
   "source": [
    "hyundi_raw = pd.read_csv('data/hyundi.csv')"
   ]
  },
  {
   "cell_type": "code",
   "execution_count": 8,
   "id": "b0826f3e",
   "metadata": {},
   "outputs": [],
   "source": [
    "merc_raw = pd.read_csv('data/merc.csv')"
   ]
  },
  {
   "cell_type": "code",
   "execution_count": 9,
   "id": "96dd0ff5",
   "metadata": {},
   "outputs": [],
   "source": [
    "skoda_raw = pd.read_csv('data/skoda.csv')"
   ]
  },
  {
   "cell_type": "code",
   "execution_count": 10,
   "id": "9af8d91a",
   "metadata": {},
   "outputs": [],
   "source": [
    "toyota_raw = pd.read_csv('data/toyota.csv')"
   ]
  },
  {
   "cell_type": "code",
   "execution_count": 11,
   "id": "a4ffb5a3",
   "metadata": {},
   "outputs": [],
   "source": [
    "vauxhall_raw = pd.read_csv('data/vauxhall.csv')"
   ]
  },
  {
   "cell_type": "code",
   "execution_count": 12,
   "id": "15146dd4",
   "metadata": {},
   "outputs": [],
   "source": [
    "vw_raw = pd.read_csv('data/vw.csv')"
   ]
  },
  {
   "cell_type": "markdown",
   "id": "b115ec33",
   "metadata": {},
   "source": [
    "# Merge into one dataframe"
   ]
  },
  {
   "cell_type": "code",
   "execution_count": 30,
   "id": "4eb1530d",
   "metadata": {},
   "outputs": [],
   "source": [
    "audi_raw['Brand'] = \"AUDI\"\n",
    "bmw_raw['Brand'] = \"BMW\"\n",
    "ford_raw['Brand'] = \"BMW\"\n",
    "hyundi_raw['Brand'] = \"hyundi\"\n",
    "merc_raw['Brand'] = \"mercedes\"\n",
    "skoda_raw['Brand'] = \"skoda\"\n",
    "toyota_raw['Brand'] = \"toyota\"\n",
    "vauxhall_raw['Brand'] = \"vauxhall\"\n",
    "vw_raw['Brand'] = \"volkswagen\"\n",
    "hyundi_raw = hyundi_raw.rename(columns={'tax(£)':'tax'})"
   ]
  },
  {
   "cell_type": "code",
   "execution_count": 32,
   "id": "856e223b",
   "metadata": {},
   "outputs": [],
   "source": [
    "df = [audi_raw, bmw_raw, ford_raw, hyundi_raw, merc_raw, skoda_raw, toyota_raw, vauxhall_raw, vw_raw]"
   ]
  },
  {
   "cell_type": "code",
   "execution_count": 1,
   "id": "ed12d627",
   "metadata": {},
   "outputs": [
    {
     "ename": "NameError",
     "evalue": "name 'pd' is not defined",
     "output_type": "error",
     "traceback": [
      "\u001b[0;31m---------------------------------------------------------------------------\u001b[0m",
      "\u001b[0;31mNameError\u001b[0m                                 Traceback (most recent call last)",
      "Input \u001b[0;32mIn [1]\u001b[0m, in \u001b[0;36m<module>\u001b[0;34m\u001b[0m\n\u001b[0;32m----> 1\u001b[0m cars_df \u001b[38;5;241m=\u001b[39m \u001b[43mpd\u001b[49m\u001b[38;5;241m.\u001b[39mconcat(df)\n\u001b[1;32m      3\u001b[0m cars_df\n",
      "\u001b[0;31mNameError\u001b[0m: name 'pd' is not defined"
     ]
    }
   ],
   "source": [
    "cars_df = pd.concat(df)\n",
    "\n",
    "cars_df"
   ]
  },
  {
   "cell_type": "markdown",
   "id": "ae5d19ef",
   "metadata": {},
   "source": [
    "# Perform feature selection"
   ]
  },
  {
   "cell_type": "code",
   "execution_count": null,
   "id": "b52ebba3",
   "metadata": {},
   "outputs": [],
   "source": []
  }
 ],
 "metadata": {
  "kernelspec": {
   "display_name": "Python 3 (ipykernel)",
   "language": "python",
   "name": "python3"
  },
  "language_info": {
   "codemirror_mode": {
    "name": "ipython",
    "version": 3
   },
   "file_extension": ".py",
   "mimetype": "text/x-python",
   "name": "python",
   "nbconvert_exporter": "python",
   "pygments_lexer": "ipython3",
   "version": "3.9.10"
  }
 },
 "nbformat": 4,
 "nbformat_minor": 5
}
