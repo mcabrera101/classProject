{
 "cells": [
  {
   "cell_type": "markdown",
   "id": "50e9b438",
   "metadata": {},
   "source": [
    "# Functions"
   ]
  },
  {
   "cell_type": "code",
   "execution_count": null,
   "id": "462dc3bf",
   "metadata": {},
   "outputs": [],
   "source": [
    "def valueFilter(dataFrame,columnName,values):\n",
    "    return dataFrame[~dataFrame[columnName].isin(values)]"
   ]
  },
  {
   "cell_type": "markdown",
   "id": "2dfb83f8",
   "metadata": {},
   "source": [
    "# Formating Data"
   ]
  },
  {
   "cell_type": "code",
   "execution_count": null,
   "id": "e524adf1",
   "metadata": {},
   "outputs": [],
   "source": [
    "import pandas as pd\n",
    "from scipy.stats import pearsonr\n",
    "import numpy as np\n",
    "from sklearn.model_selection import train_test_split\n",
    "from sklearn.preprocessing import StandardScaler\n",
    "import matplotlib.pyplot as plt\n",
    "import statistics\n",
    "from sklearn import linear_model, tree\n",
    "import matplotlib.pyplot as plt\n",
    "from sklearn.metrics import mean_squared_error, r2_score, confusion_matrix\n",
    "from sklearn.neighbors import KNeighborsClassifier"
   ]
  },
  {
   "cell_type": "markdown",
   "id": "d83b24a0",
   "metadata": {},
   "source": [
    "# Import raw datasets"
   ]
  },
  {
   "cell_type": "code",
   "execution_count": null,
   "id": "dec8b87d",
   "metadata": {},
   "outputs": [],
   "source": [
    "audi_raw = pd.read_csv('data/audi.csv')"
   ]
  },
  {
   "cell_type": "code",
   "execution_count": null,
   "id": "7433d9fd",
   "metadata": {},
   "outputs": [],
   "source": [
    "bmw_raw = pd.read_csv('data/bmw.csv')"
   ]
  },
  {
   "cell_type": "code",
   "execution_count": null,
   "id": "4082ecfc",
   "metadata": {},
   "outputs": [],
   "source": [
    "ford_raw = pd.read_csv('data/ford.csv')"
   ]
  },
  {
   "cell_type": "code",
   "execution_count": null,
   "id": "b7efb892",
   "metadata": {},
   "outputs": [],
   "source": [
    "hyundi_raw = pd.read_csv('data/hyundi.csv')"
   ]
  },
  {
   "cell_type": "code",
   "execution_count": null,
   "id": "d3f399ce",
   "metadata": {},
   "outputs": [],
   "source": [
    "merc_raw = pd.read_csv('data/merc.csv')"
   ]
  },
  {
   "cell_type": "code",
   "execution_count": null,
   "id": "89482c7a",
   "metadata": {},
   "outputs": [],
   "source": [
    "skoda_raw = pd.read_csv('data/skoda.csv')"
   ]
  },
  {
   "cell_type": "code",
   "execution_count": null,
   "id": "402c5d15",
   "metadata": {},
   "outputs": [],
   "source": [
    "toyota_raw = pd.read_csv('data/toyota.csv')"
   ]
  },
  {
   "cell_type": "code",
   "execution_count": null,
   "id": "0277a9c5",
   "metadata": {},
   "outputs": [],
   "source": [
    "vauxhall_raw = pd.read_csv('data/vauxhall.csv')"
   ]
  },
  {
   "cell_type": "code",
   "execution_count": null,
   "id": "bf8993f3",
   "metadata": {},
   "outputs": [],
   "source": [
    "vw_raw = pd.read_csv('data/vw.csv')"
   ]
  },
  {
   "cell_type": "markdown",
   "id": "b6337e41",
   "metadata": {},
   "source": [
    "# Merge into one dataframe"
   ]
  },
  {
   "cell_type": "code",
   "execution_count": null,
   "id": "18f8d389",
   "metadata": {},
   "outputs": [],
   "source": [
    "hyundi_raw = hyundi_raw.rename(columns={'tax(£)':'tax'})"
   ]
  },
  {
   "cell_type": "code",
   "execution_count": null,
   "id": "594e7ad0",
   "metadata": {},
   "outputs": [],
   "source": [
    "#Merge into one dataframe\n",
    "df = [audi_raw, bmw_raw, ford_raw, hyundi_raw, merc_raw, skoda_raw, toyota_raw, vauxhall_raw, vw_raw]\n",
    "cars = pd.concat(df)"
   ]
  },
  {
   "cell_type": "code",
   "execution_count": null,
   "id": "5b65c5bc",
   "metadata": {},
   "outputs": [],
   "source": [
    "#Make strings into factors\n",
    "cars['model'] = cars['model'].astype('category')\n",
    "cars['transmission'] = cars['transmission'].astype('category')\n",
    "cars['fuelType'] = cars['fuelType'].astype('category')\n",
    "cars = pd.get_dummies(cars)"
   ]
  },
  {
   "cell_type": "code",
   "execution_count": null,
   "id": "723ed3c2",
   "metadata": {},
   "outputs": [],
   "source": [
    "cars['category'] = ' '\n",
    "for i in range(0,len(cars)):\n",
    "    if cars['price'].values[i] < 10000:\n",
    "        cars['category'].values[i] = 'low-end'\n",
    "    elif cars['price'].values[i] > 10000 & cars['price'].values[i] < 25000:\n",
    "        cars['category'].values[i] = 'mid-end'\n",
    "    else:\n",
    "        cars['category'].values[i] = 'low-end'\n",
    "\n",
    "cars['category'].astype('category')\n",
    "\n",
    "cars_x = cars.drop('price', inplace = False, axis=1)\n",
    "cars_x = cars_x.drop('category', inplace = False, axis=1)\n",
    "cars_y = cars['price']\n",
    "cars_y2 = cars['category']"
   ]
  },
  {
   "cell_type": "markdown",
   "id": "486ddec8",
   "metadata": {},
   "source": [
    "# Regression Model"
   ]
  },
  {
   "cell_type": "markdown",
   "id": "ca076a3c",
   "metadata": {},
   "source": [
    "### Linear Regression"
   ]
  },
  {
   "cell_type": "code",
   "execution_count": null,
   "id": "607e9fbb",
   "metadata": {},
   "outputs": [],
   "source": [
    "cars_train, cars_test, price_train, price_test = train_test_split(cars_x, cars_y, test_size = 0.3, random_state=101)\n",
    "cars_train, cars_test, cat_train, cat_test = train_test_split(cars_x, cars_y2, test_size = 0.3, random_state=101)"
   ]
  },
  {
   "cell_type": "code",
   "execution_count": null,
   "id": "80d53656",
   "metadata": {},
   "outputs": [],
   "source": [
    "mod = linear_model.LinearRegression()\n",
    "mod.fit(cars_train, price_train)"
   ]
  },
  {
   "cell_type": "code",
   "execution_count": null,
   "id": "00e3cc2d",
   "metadata": {},
   "outputs": [],
   "source": [
    "cars_pred = mod.predict(cars_test)"
   ]
  },
  {
   "cell_type": "code",
   "execution_count": null,
   "id": "3f639ebb",
   "metadata": {},
   "outputs": [],
   "source": [
    "r2_score(price_test, cars_pred)"
   ]
  },
  {
   "cell_type": "markdown",
   "id": "8bc96e25",
   "metadata": {},
   "source": [
    "### Polynomial Regression"
   ]
  },
  {
   "cell_type": "markdown",
   "id": "3f2cb779",
   "metadata": {},
   "source": [
    "# Classification Model"
   ]
  },
  {
   "cell_type": "markdown",
   "id": "9349962e",
   "metadata": {},
   "source": [
    "### K-NN "
   ]
  },
  {
   "cell_type": "code",
   "execution_count": null,
   "id": "69d7cd84",
   "metadata": {},
   "outputs": [],
   "source": [
    "knn = KNeighborsClassifier(n_neighbors=30)\n",
    "knn.fit(cars_train, cat_train)"
   ]
  },
  {
   "cell_type": "code",
   "execution_count": null,
   "id": "5e935d91",
   "metadata": {},
   "outputs": [],
   "source": [
    "cat_pred = knn.predict(cars_test)"
   ]
  },
  {
   "cell_type": "code",
   "execution_count": null,
   "id": "1f671a49",
   "metadata": {},
   "outputs": [],
   "source": [
    "cat = confusion_matrix(cat_test, cat_pred)\n",
    "cat"
   ]
  },
  {
   "cell_type": "code",
   "execution_count": null,
   "id": "08698a16",
   "metadata": {},
   "outputs": [],
   "source": [
    "TP = cat[1][1]\n",
    "TN = cat[0][0]\n",
    "FP = cat[0][1]\n",
    "FN = cat[1][0]\n",
    "accuracy = (TP + TN)/(TP+TN+FP+FN)"
   ]
  },
  {
   "cell_type": "code",
   "execution_count": null,
   "id": "bb0d1a60",
   "metadata": {},
   "outputs": [],
   "source": [
    "accuracy"
   ]
  },
  {
   "cell_type": "markdown",
   "id": "48e93539",
   "metadata": {},
   "source": [
    "### Decision Tree"
   ]
  },
  {
   "cell_type": "code",
   "execution_count": null,
   "id": "351c22ef",
   "metadata": {},
   "outputs": [],
   "source": [
    "dtree = tree.DecisionTreeClassifier()\n",
    "dtree = dtree.fit(cars_train, cat_train)"
   ]
  },
  {
   "cell_type": "code",
   "execution_count": null,
   "id": "7f08537b",
   "metadata": {},
   "outputs": [],
   "source": [
    "y_pred = dtree.predict(cars_test)"
   ]
  },
  {
   "cell_type": "code",
   "execution_count": null,
   "id": "1ed4e12b",
   "metadata": {},
   "outputs": [],
   "source": [
    "cat = confusion_matrix(cat_test, y_pred)\n",
    "cat"
   ]
  },
  {
   "cell_type": "code",
   "execution_count": null,
   "id": "75ca4077",
   "metadata": {},
   "outputs": [],
   "source": [
    "TP = cat[1][1]\n",
    "TN = cat[0][0]\n",
    "FP = cat[0][1]\n",
    "FN = cat[1][0]\n",
    "accuracy = (TP + TN)/(TP+TN+FP+FN)"
   ]
  },
  {
   "cell_type": "code",
   "execution_count": null,
   "id": "4ab673ba",
   "metadata": {},
   "outputs": [],
   "source": [
    "accuracy"
   ]
  }
 ],
 "metadata": {
  "kernelspec": {
   "display_name": "Python 3 (ipykernel)",
   "language": "python",
   "name": "python3"
  },
  "language_info": {
   "codemirror_mode": {
    "name": "ipython",
    "version": 3
   },
   "file_extension": ".py",
   "mimetype": "text/x-python",
   "name": "python",
   "nbconvert_exporter": "python",
   "pygments_lexer": "ipython3",
   "version": "3.9.10"
  }
 },
 "nbformat": 4,
 "nbformat_minor": 5
}
